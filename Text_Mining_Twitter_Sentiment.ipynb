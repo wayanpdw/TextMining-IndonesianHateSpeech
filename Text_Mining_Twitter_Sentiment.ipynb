{
  "nbformat": 4,
  "nbformat_minor": 0,
  "metadata": {
    "colab": {
      "name": "Text Mining - Twitter Sentiment.ipynb",
      "provenance": [],
      "authorship_tag": "ABX9TyO3VPT4K3ggtr5ke9ZgJgnf",
      "include_colab_link": true
    },
    "kernelspec": {
      "name": "python3",
      "display_name": "Python 3"
    }
  },
  "cells": [
    {
      "cell_type": "markdown",
      "metadata": {
        "id": "view-in-github",
        "colab_type": "text"
      },
      "source": [
        "<a href=\"https://colab.research.google.com/github/wayanpdw/TextMining-IndonesianHateSpeech/blob/master/Text_Mining_Twitter_Sentiment.ipynb\" target=\"_parent\"><img src=\"https://colab.research.google.com/assets/colab-badge.svg\" alt=\"Open In Colab\"/></a>"
      ]
    },
    {
      "cell_type": "markdown",
      "metadata": {
        "id": "VLMkr5ZuqrXZ"
      },
      "source": [
        "# **Text Mining - Twitter Sentiment**\n",
        "I Wayan Pasek Dian Wahyudi | DS0114 | Telkom DTI 2020"
      ]
    },
    {
      "cell_type": "markdown",
      "metadata": {
        "id": "w-0bj4mFsEMN"
      },
      "source": [
        "# Pendahuluan\n",
        "Text mining memiliki definisi penambangan data yang berupa teks dimana sumber data biasanya di dapatkan dari dokumen, dan tujuannya adalah mencari kata-kata yang dapat mewakili isi dari dokumen sehingga dapat dilakukan analisa keterhubungan antardokumen.\n",
        "\n",
        "Kali ini akan dianalisa data text yang dikumpulkan dari sumber twitter.com\n",
        "\n",
        "Dataset terdiri dari dua buah kolom yang masing-masing berisi kumpulan tweet dan pelabelan dari tweet yang bersangkutan.\n",
        "\n",
        "Selanjutnya kumpulan tweet pada dataset akan dikategorikan dengan label \"HS\" (Hate-speech) dan \"Non_HS\" (Non-hate-speech).\n"
      ]
    },
    {
      "cell_type": "markdown",
      "metadata": {
        "id": "8lBXEB_Rvwxp"
      },
      "source": [
        "#**Menyiapkan Data**\n",
        "\n",
        "\n",
        "Mengimpor *Libraries*\n"
      ]
    },
    {
      "cell_type": "code",
      "metadata": {
        "id": "DA3RqKGZv4No"
      },
      "source": [
        "import pandas as pd\n",
        "import pandas as pd\n",
        "import matplotlib.pyplot as plt\n",
        "import csv\n",
        "import re\n",
        "import string\n",
        "\n",
        "from sklearn.feature_extraction.text import TfidfVectorizer\n",
        "from sklearn.model_selection import train_test_split\n",
        "from sklearn.preprocessing import LabelEncoder\n",
        "from sklearn.feature_extraction.text import CountVectorizer\n",
        "from sklearn.feature_extraction.text import TfidfTransformer\n",
        "\n",
        "from sklearn.ensemble import RandomForestClassifier\n",
        "from sklearn.neighbors import KNeighborsClassifier\n",
        "from sklearn.metrics import classification_report, confusion_matrix, accuracy_score"
      ],
      "execution_count": 113,
      "outputs": []
    },
    {
      "cell_type": "markdown",
      "metadata": {
        "id": "ufTxuBsRwabe"
      },
      "source": [
        "Mengimpor dataset"
      ]
    },
    {
      "cell_type": "code",
      "metadata": {
        "colab": {
          "base_uri": "https://localhost:8080/",
          "height": 204
        },
        "id": "kNeurCGXwYmf",
        "outputId": "bdad1dbd-f8cc-4fcf-a8e2-0e4fa37b9d15"
      },
      "source": [
        "df = pd.read_csv('https://raw.githubusercontent.com/wayanpdw/TextMining-IndonesianHateSpeech/master/twitter_data_clean.csv' , sep=\",\")\n",
        "\n",
        "# Memunculkan 5 data pertama dalam sebuah dataframe baru (opsional)\n",
        "df.head()"
      ],
      "execution_count": 114,
      "outputs": [
        {
          "output_type": "execute_result",
          "data": {
            "text/html": [
              "<div>\n",
              "<style scoped>\n",
              "    .dataframe tbody tr th:only-of-type {\n",
              "        vertical-align: middle;\n",
              "    }\n",
              "\n",
              "    .dataframe tbody tr th {\n",
              "        vertical-align: top;\n",
              "    }\n",
              "\n",
              "    .dataframe thead th {\n",
              "        text-align: right;\n",
              "    }\n",
              "</style>\n",
              "<table border=\"1\" class=\"dataframe\">\n",
              "  <thead>\n",
              "    <tr style=\"text-align: right;\">\n",
              "      <th></th>\n",
              "      <th>Tweet</th>\n",
              "      <th>Label</th>\n",
              "    </tr>\n",
              "  </thead>\n",
              "  <tbody>\n",
              "    <tr>\n",
              "      <th>0</th>\n",
              "      <td>RT @spardaxyz: Fadli Zon Minta Mendagri Segera...</td>\n",
              "      <td>Non_HS</td>\n",
              "    </tr>\n",
              "    <tr>\n",
              "      <th>1</th>\n",
              "      <td>RT @baguscondromowo: Mereka terus melukai aksi...</td>\n",
              "      <td>Non_HS</td>\n",
              "    </tr>\n",
              "    <tr>\n",
              "      <th>2</th>\n",
              "      <td>Sylvi: bagaimana gurbernur melakukan kekerasan...</td>\n",
              "      <td>Non_HS</td>\n",
              "    </tr>\n",
              "    <tr>\n",
              "      <th>3</th>\n",
              "      <td>Ahmad Dhani Tak Puas Debat Pilkada, Masalah Ja...</td>\n",
              "      <td>Non_HS</td>\n",
              "    </tr>\n",
              "    <tr>\n",
              "      <th>4</th>\n",
              "      <td>RT @lisdaulay28: Waspada KTP palsu.....kawal P...</td>\n",
              "      <td>Non_HS</td>\n",
              "    </tr>\n",
              "  </tbody>\n",
              "</table>\n",
              "</div>"
            ],
            "text/plain": [
              "                                               Tweet   Label\n",
              "0  RT @spardaxyz: Fadli Zon Minta Mendagri Segera...  Non_HS\n",
              "1  RT @baguscondromowo: Mereka terus melukai aksi...  Non_HS\n",
              "2  Sylvi: bagaimana gurbernur melakukan kekerasan...  Non_HS\n",
              "3  Ahmad Dhani Tak Puas Debat Pilkada, Masalah Ja...  Non_HS\n",
              "4  RT @lisdaulay28: Waspada KTP palsu.....kawal P...  Non_HS"
            ]
          },
          "metadata": {
            "tags": []
          },
          "execution_count": 114
        }
      ]
    },
    {
      "cell_type": "code",
      "metadata": {
        "colab": {
          "base_uri": "https://localhost:8080/",
          "height": 204
        },
        "id": "kq6cUXUgzpLn",
        "outputId": "51cd8b88-e453-4a58-847b-a4a8bdea4db5"
      },
      "source": [
        "# Menampilkan 5 data terakhir\n",
        "df.tail()"
      ],
      "execution_count": 115,
      "outputs": [
        {
          "output_type": "execute_result",
          "data": {
            "text/html": [
              "<div>\n",
              "<style scoped>\n",
              "    .dataframe tbody tr th:only-of-type {\n",
              "        vertical-align: middle;\n",
              "    }\n",
              "\n",
              "    .dataframe tbody tr th {\n",
              "        vertical-align: top;\n",
              "    }\n",
              "\n",
              "    .dataframe thead th {\n",
              "        text-align: right;\n",
              "    }\n",
              "</style>\n",
              "<table border=\"1\" class=\"dataframe\">\n",
              "  <thead>\n",
              "    <tr style=\"text-align: right;\">\n",
              "      <th></th>\n",
              "      <th>Tweet</th>\n",
              "      <th>Label</th>\n",
              "    </tr>\n",
              "  </thead>\n",
              "  <tbody>\n",
              "    <tr>\n",
              "      <th>708</th>\n",
              "      <td>Muka Si BABi Ahok Tuh Yg Mirip SERBET Lantai.....</td>\n",
              "      <td>HS</td>\n",
              "    </tr>\n",
              "    <tr>\n",
              "      <th>709</th>\n",
              "      <td>Betul bang hancurkan merka bang, musnahkan chi...</td>\n",
              "      <td>HS</td>\n",
              "    </tr>\n",
              "    <tr>\n",
              "      <th>710</th>\n",
              "      <td>Sapa Yg bilang Ahok anti korupsi!?, klo grombo...</td>\n",
              "      <td>HS</td>\n",
              "    </tr>\n",
              "    <tr>\n",
              "      <th>711</th>\n",
              "      <td>Gw juga ngimpi SENTILIN BIJI BABI AHOK, pcetar...</td>\n",
              "      <td>HS</td>\n",
              "    </tr>\n",
              "    <tr>\n",
              "      <th>712</th>\n",
              "      <td>Mudah2an gw ketemu sama SI BABI IWAN BOPENG DI...</td>\n",
              "      <td>HS</td>\n",
              "    </tr>\n",
              "  </tbody>\n",
              "</table>\n",
              "</div>"
            ],
            "text/plain": [
              "                                                 Tweet Label\n",
              "708  Muka Si BABi Ahok Tuh Yg Mirip SERBET Lantai.....    HS\n",
              "709  Betul bang hancurkan merka bang, musnahkan chi...    HS\n",
              "710  Sapa Yg bilang Ahok anti korupsi!?, klo grombo...    HS\n",
              "711  Gw juga ngimpi SENTILIN BIJI BABI AHOK, pcetar...    HS\n",
              "712  Mudah2an gw ketemu sama SI BABI IWAN BOPENG DI...    HS"
            ]
          },
          "metadata": {
            "tags": []
          },
          "execution_count": 115
        }
      ]
    },
    {
      "cell_type": "markdown",
      "metadata": {
        "id": "x_tDSxe6z2Gr"
      },
      "source": [
        "## **Preprocessing Data**\n",
        "\n",
        "Preprocessing data dilakukan dengan melakukan penyeimbangan data karena dataset awal merupakan imbalanced data, dimana jumlah data berlabel hatespeech dan non hatespeech tidak seimbang. Teknik balanced data yang dilakukan menggunakan metode undersampling (memotong jumlah kelas yang berlimpah sehingga jumlahnya menjadi sama dengan kelas lainnya). Kenapa hal ini harus dilakukan? karena pada dasarnya data yang imbalanced merupakan masalah umum dalam machine learning. Jika dipaksakan melakukan pemodelan, maka model akan sia-sia walaupun memiliki akurasi yang tinggi."
      ]
    },
    {
      "cell_type": "code",
      "metadata": {
        "colab": {
          "base_uri": "https://localhost:8080/"
        },
        "id": "5hmVT7C2zvfT",
        "outputId": "1f9154d3-0d4e-433c-b656-1e9667932cc7"
      },
      "source": [
        "# Cek apakah ada data yang kosong\n",
        "print(df.isnull().values.any())"
      ],
      "execution_count": 116,
      "outputs": [
        {
          "output_type": "stream",
          "text": [
            "True\n"
          ],
          "name": "stdout"
        }
      ]
    },
    {
      "cell_type": "markdown",
      "metadata": {
        "id": "tk0fgAsA0wDx"
      },
      "source": [
        "Ada data kosong"
      ]
    },
    {
      "cell_type": "code",
      "metadata": {
        "colab": {
          "base_uri": "https://localhost:8080/"
        },
        "id": "BVc0cczF01mn",
        "outputId": "59ba5582-67e8-4a71-dc68-7d75be2d7d43"
      },
      "source": [
        "# Drop data yang kosong\n",
        "df = df.dropna(axis=0, subset=['Tweet'])\n",
        "print(df)"
      ],
      "execution_count": 117,
      "outputs": [
        {
          "output_type": "stream",
          "text": [
            "                                                 Tweet   Label\n",
            "0    RT @spardaxyz: Fadli Zon Minta Mendagri Segera...  Non_HS\n",
            "1    RT @baguscondromowo: Mereka terus melukai aksi...  Non_HS\n",
            "2    Sylvi: bagaimana gurbernur melakukan kekerasan...  Non_HS\n",
            "3    Ahmad Dhani Tak Puas Debat Pilkada, Masalah Ja...  Non_HS\n",
            "4    RT @lisdaulay28: Waspada KTP palsu.....kawal P...  Non_HS\n",
            "..                                                 ...     ...\n",
            "708  Muka Si BABi Ahok Tuh Yg Mirip SERBET Lantai.....      HS\n",
            "709  Betul bang hancurkan merka bang, musnahkan chi...      HS\n",
            "710  Sapa Yg bilang Ahok anti korupsi!?, klo grombo...      HS\n",
            "711  Gw juga ngimpi SENTILIN BIJI BABI AHOK, pcetar...      HS\n",
            "712  Mudah2an gw ketemu sama SI BABI IWAN BOPENG DI...      HS\n",
            "\n",
            "[712 rows x 2 columns]\n"
          ],
          "name": "stdout"
        }
      ]
    },
    {
      "cell_type": "code",
      "metadata": {
        "colab": {
          "base_uri": "https://localhost:8080/"
        },
        "id": "8HT7YivW1G8x",
        "outputId": "a4a98383-1fac-4061-8f29-cda3157a31ec"
      },
      "source": [
        "# periksa kembali apa data kosong sudah di drop\n",
        "print(df.isnull().values.any())"
      ],
      "execution_count": 118,
      "outputs": [
        {
          "output_type": "stream",
          "text": [
            "False\n"
          ],
          "name": "stdout"
        }
      ]
    },
    {
      "cell_type": "markdown",
      "metadata": {
        "id": "5gh2L4eR0vFG"
      },
      "source": [
        "Data kosong berhasil di-drop"
      ]
    },
    {
      "cell_type": "code",
      "metadata": {
        "colab": {
          "base_uri": "https://localhost:8080/"
        },
        "id": "BC57v07-1sJp",
        "outputId": "a20c5946-8f99-441d-810a-56bbd6bcb889"
      },
      "source": [
        "# Cek jumlah data\n",
        "df['Label'].count()"
      ],
      "execution_count": 119,
      "outputs": [
        {
          "output_type": "execute_result",
          "data": {
            "text/plain": [
              "712"
            ]
          },
          "metadata": {
            "tags": []
          },
          "execution_count": 119
        }
      ]
    },
    {
      "cell_type": "code",
      "metadata": {
        "colab": {
          "base_uri": "https://localhost:8080/"
        },
        "id": "H3WBXL6k10b_",
        "outputId": "7d9f8aa2-7cf7-489a-cdea-91baa1e63898"
      },
      "source": [
        "#menghitung proporsi data label dengan jumlah yg tidak seimbang\n",
        "df[\"Label\"].value_counts() "
      ],
      "execution_count": 120,
      "outputs": [
        {
          "output_type": "execute_result",
          "data": {
            "text/plain": [
              "Non_HS    453\n",
              "HS        259\n",
              "Name: Label, dtype: int64"
            ]
          },
          "metadata": {
            "tags": []
          },
          "execution_count": 120
        }
      ]
    },
    {
      "cell_type": "markdown",
      "metadata": {
        "id": "i9Wv43UG3SKK"
      },
      "source": [
        " **Data Cleaning**\n",
        "\n",
        " Dalam tahap ini data akan dibersihkan dari mentions, hasgtag, retweets, urls, case folding, tokenization, stopword dan stemming."
      ]
    },
    {
      "cell_type": "code",
      "metadata": {
        "colab": {
          "base_uri": "https://localhost:8080/",
          "height": 204
        },
        "id": "ty_aBM5a2yEg",
        "outputId": "d7017fa5-7674-4523-e34a-e59f2b8251dd"
      },
      "source": [
        "tweets = []\n",
        "for tweet in df['Tweet'] :\n",
        "    tweet = tweet.lower()\n",
        "    tweet = re.sub(r\"(?:\\@|https?\\://)\\S+\", \"\", tweet)\n",
        "    tweet = re.sub(r\"http\\S+\", \"\", tweet)\n",
        "    tweet = re.sub('\\n', '', tweet)\n",
        "    tweet = re.sub('rt', '', tweet)\n",
        "    tweet = re.sub(\"[^a-zA-Z^']\", \" \", tweet)\n",
        "    tweet = re.sub(\" {2,}\", \" \", tweet)\n",
        "    tweet = tweet.strip()\n",
        "    tweets.append(tweet)\n",
        "df['clean_text'] = tweets\n",
        "\n",
        "df.head()"
      ],
      "execution_count": 121,
      "outputs": [
        {
          "output_type": "execute_result",
          "data": {
            "text/html": [
              "<div>\n",
              "<style scoped>\n",
              "    .dataframe tbody tr th:only-of-type {\n",
              "        vertical-align: middle;\n",
              "    }\n",
              "\n",
              "    .dataframe tbody tr th {\n",
              "        vertical-align: top;\n",
              "    }\n",
              "\n",
              "    .dataframe thead th {\n",
              "        text-align: right;\n",
              "    }\n",
              "</style>\n",
              "<table border=\"1\" class=\"dataframe\">\n",
              "  <thead>\n",
              "    <tr style=\"text-align: right;\">\n",
              "      <th></th>\n",
              "      <th>Tweet</th>\n",
              "      <th>Label</th>\n",
              "      <th>clean_text</th>\n",
              "    </tr>\n",
              "  </thead>\n",
              "  <tbody>\n",
              "    <tr>\n",
              "      <th>0</th>\n",
              "      <td>RT @spardaxyz: Fadli Zon Minta Mendagri Segera...</td>\n",
              "      <td>Non_HS</td>\n",
              "      <td>fadli zon minta mendagri segera menonaktifkan ...</td>\n",
              "    </tr>\n",
              "    <tr>\n",
              "      <th>1</th>\n",
              "      <td>RT @baguscondromowo: Mereka terus melukai aksi...</td>\n",
              "      <td>Non_HS</td>\n",
              "      <td>mereka terus melukai aksi dalam rangka memenja...</td>\n",
              "    </tr>\n",
              "    <tr>\n",
              "      <th>2</th>\n",
              "      <td>Sylvi: bagaimana gurbernur melakukan kekerasan...</td>\n",
              "      <td>Non_HS</td>\n",
              "      <td>sylvi bagaimana gurbernur melakukan kekerasan ...</td>\n",
              "    </tr>\n",
              "    <tr>\n",
              "      <th>3</th>\n",
              "      <td>Ahmad Dhani Tak Puas Debat Pilkada, Masalah Ja...</td>\n",
              "      <td>Non_HS</td>\n",
              "      <td>ahmad dhani tak puas debat pilkada masalah jal...</td>\n",
              "    </tr>\n",
              "    <tr>\n",
              "      <th>4</th>\n",
              "      <td>RT @lisdaulay28: Waspada KTP palsu.....kawal P...</td>\n",
              "      <td>Non_HS</td>\n",
              "      <td>waspada ktp palsu kawal pilkada</td>\n",
              "    </tr>\n",
              "  </tbody>\n",
              "</table>\n",
              "</div>"
            ],
            "text/plain": [
              "                                               Tweet  ...                                         clean_text\n",
              "0  RT @spardaxyz: Fadli Zon Minta Mendagri Segera...  ...  fadli zon minta mendagri segera menonaktifkan ...\n",
              "1  RT @baguscondromowo: Mereka terus melukai aksi...  ...  mereka terus melukai aksi dalam rangka memenja...\n",
              "2  Sylvi: bagaimana gurbernur melakukan kekerasan...  ...  sylvi bagaimana gurbernur melakukan kekerasan ...\n",
              "3  Ahmad Dhani Tak Puas Debat Pilkada, Masalah Ja...  ...  ahmad dhani tak puas debat pilkada masalah jal...\n",
              "4  RT @lisdaulay28: Waspada KTP palsu.....kawal P...  ...                    waspada ktp palsu kawal pilkada\n",
              "\n",
              "[5 rows x 3 columns]"
            ]
          },
          "metadata": {
            "tags": []
          },
          "execution_count": 121
        }
      ]
    },
    {
      "cell_type": "markdown",
      "metadata": {
        "id": "c0GrwhLj48wK"
      },
      "source": [
        "**Stemming**"
      ]
    },
    {
      "cell_type": "code",
      "metadata": {
        "colab": {
          "base_uri": "https://localhost:8080/"
        },
        "id": "lT7d0Szq5QhE",
        "outputId": "be8a8422-6a3c-410c-c925-a3b23f213170"
      },
      "source": [
        "pip install Sastrawi"
      ],
      "execution_count": 122,
      "outputs": [
        {
          "output_type": "stream",
          "text": [
            "Requirement already satisfied: Sastrawi in /usr/local/lib/python3.6/dist-packages (1.0.1)\n"
          ],
          "name": "stdout"
        }
      ]
    },
    {
      "cell_type": "code",
      "metadata": {
        "colab": {
          "base_uri": "https://localhost:8080/"
        },
        "id": "tDob7-f05RpH",
        "outputId": "af6def3b-0961-4ea8-baec-a7fb40fd502b"
      },
      "source": [
        "pip install nltk"
      ],
      "execution_count": 123,
      "outputs": [
        {
          "output_type": "stream",
          "text": [
            "Requirement already satisfied: nltk in /usr/local/lib/python3.6/dist-packages (3.2.5)\n",
            "Requirement already satisfied: six in /usr/local/lib/python3.6/dist-packages (from nltk) (1.15.0)\n"
          ],
          "name": "stdout"
        }
      ]
    },
    {
      "cell_type": "code",
      "metadata": {
        "colab": {
          "base_uri": "https://localhost:8080/",
          "height": 204
        },
        "id": "GyWfOBVh40xc",
        "outputId": "b4b804e1-28fe-4351-f283-88826cc5fbf0"
      },
      "source": [
        "from Sastrawi.Stemmer.StemmerFactory import StemmerFactory\n",
        "factory = StemmerFactory()\n",
        "stemmer = factory.create_stemmer()\n",
        "\n",
        "def stem(tweet) :\n",
        "    hasil = stemmer.stem(tweet)\n",
        "    return hasil\n",
        "\n",
        "df['clean_text'] = df.apply(lambda row : stem(row['clean_text']), axis = 1)\n",
        "\n",
        "df.head()"
      ],
      "execution_count": 124,
      "outputs": [
        {
          "output_type": "execute_result",
          "data": {
            "text/html": [
              "<div>\n",
              "<style scoped>\n",
              "    .dataframe tbody tr th:only-of-type {\n",
              "        vertical-align: middle;\n",
              "    }\n",
              "\n",
              "    .dataframe tbody tr th {\n",
              "        vertical-align: top;\n",
              "    }\n",
              "\n",
              "    .dataframe thead th {\n",
              "        text-align: right;\n",
              "    }\n",
              "</style>\n",
              "<table border=\"1\" class=\"dataframe\">\n",
              "  <thead>\n",
              "    <tr style=\"text-align: right;\">\n",
              "      <th></th>\n",
              "      <th>Tweet</th>\n",
              "      <th>Label</th>\n",
              "      <th>clean_text</th>\n",
              "    </tr>\n",
              "  </thead>\n",
              "  <tbody>\n",
              "    <tr>\n",
              "      <th>0</th>\n",
              "      <td>RT @spardaxyz: Fadli Zon Minta Mendagri Segera...</td>\n",
              "      <td>Non_HS</td>\n",
              "      <td>fadli zon minta mendagri segera nonaktif ahok ...</td>\n",
              "    </tr>\n",
              "    <tr>\n",
              "      <th>1</th>\n",
              "      <td>RT @baguscondromowo: Mereka terus melukai aksi...</td>\n",
              "      <td>Non_HS</td>\n",
              "      <td>mereka terus luka aksi dalam rangka penjara ah...</td>\n",
              "    </tr>\n",
              "    <tr>\n",
              "      <th>2</th>\n",
              "      <td>Sylvi: bagaimana gurbernur melakukan kekerasan...</td>\n",
              "      <td>Non_HS</td>\n",
              "      <td>sylvi bagaimana gurbernur laku keras perempuan...</td>\n",
              "    </tr>\n",
              "    <tr>\n",
              "      <th>3</th>\n",
              "      <td>Ahmad Dhani Tak Puas Debat Pilkada, Masalah Ja...</td>\n",
              "      <td>Non_HS</td>\n",
              "      <td>ahmad dhani tak puas debat pilkada masalah jal...</td>\n",
              "    </tr>\n",
              "    <tr>\n",
              "      <th>4</th>\n",
              "      <td>RT @lisdaulay28: Waspada KTP palsu.....kawal P...</td>\n",
              "      <td>Non_HS</td>\n",
              "      <td>waspada ktp palsu kawal pilkada</td>\n",
              "    </tr>\n",
              "  </tbody>\n",
              "</table>\n",
              "</div>"
            ],
            "text/plain": [
              "                                               Tweet  ...                                         clean_text\n",
              "0  RT @spardaxyz: Fadli Zon Minta Mendagri Segera...  ...  fadli zon minta mendagri segera nonaktif ahok ...\n",
              "1  RT @baguscondromowo: Mereka terus melukai aksi...  ...  mereka terus luka aksi dalam rangka penjara ah...\n",
              "2  Sylvi: bagaimana gurbernur melakukan kekerasan...  ...  sylvi bagaimana gurbernur laku keras perempuan...\n",
              "3  Ahmad Dhani Tak Puas Debat Pilkada, Masalah Ja...  ...  ahmad dhani tak puas debat pilkada masalah jal...\n",
              "4  RT @lisdaulay28: Waspada KTP palsu.....kawal P...  ...                    waspada ktp palsu kawal pilkada\n",
              "\n",
              "[5 rows x 3 columns]"
            ]
          },
          "metadata": {
            "tags": []
          },
          "execution_count": 124
        }
      ]
    },
    {
      "cell_type": "markdown",
      "metadata": {
        "id": "j8YNlB_e7yQ6"
      },
      "source": [
        "**Stopwards Removal**"
      ]
    },
    {
      "cell_type": "code",
      "metadata": {
        "colab": {
          "base_uri": "https://localhost:8080/",
          "height": 419
        },
        "id": "JM10u1XK8DZZ",
        "outputId": "efa302c0-9527-4e92-9f15-bb4f18776c09"
      },
      "source": [
        "from Sastrawi.StopWordRemover.StopWordRemoverFactory import StopWordRemoverFactory\n",
        "# from nltk.tokenize import word_tokenize\n",
        "\n",
        "factory = StopWordRemoverFactory()\n",
        "stopword = factory.create_stop_word_remover()\n",
        "\n",
        "def stopwords(tweet) :\n",
        "    tweet = tweet.translate(str.maketrans('','',string.punctuation)).lower()\n",
        "    return stopword.remove(tweet)\n",
        "\n",
        "df['clean_text'] = df.apply(lambda row : stem(row['clean_text']), axis = 1)\n",
        "\n",
        "df"
      ],
      "execution_count": 125,
      "outputs": [
        {
          "output_type": "execute_result",
          "data": {
            "text/html": [
              "<div>\n",
              "<style scoped>\n",
              "    .dataframe tbody tr th:only-of-type {\n",
              "        vertical-align: middle;\n",
              "    }\n",
              "\n",
              "    .dataframe tbody tr th {\n",
              "        vertical-align: top;\n",
              "    }\n",
              "\n",
              "    .dataframe thead th {\n",
              "        text-align: right;\n",
              "    }\n",
              "</style>\n",
              "<table border=\"1\" class=\"dataframe\">\n",
              "  <thead>\n",
              "    <tr style=\"text-align: right;\">\n",
              "      <th></th>\n",
              "      <th>Tweet</th>\n",
              "      <th>Label</th>\n",
              "      <th>clean_text</th>\n",
              "    </tr>\n",
              "  </thead>\n",
              "  <tbody>\n",
              "    <tr>\n",
              "      <th>0</th>\n",
              "      <td>RT @spardaxyz: Fadli Zon Minta Mendagri Segera...</td>\n",
              "      <td>Non_HS</td>\n",
              "      <td>fadli zon minta mendagri segera nonaktif ahok ...</td>\n",
              "    </tr>\n",
              "    <tr>\n",
              "      <th>1</th>\n",
              "      <td>RT @baguscondromowo: Mereka terus melukai aksi...</td>\n",
              "      <td>Non_HS</td>\n",
              "      <td>mereka terus luka aksi dalam rangka penjara ah...</td>\n",
              "    </tr>\n",
              "    <tr>\n",
              "      <th>2</th>\n",
              "      <td>Sylvi: bagaimana gurbernur melakukan kekerasan...</td>\n",
              "      <td>Non_HS</td>\n",
              "      <td>sylvi bagaimana gurbernur laku keras perempuan...</td>\n",
              "    </tr>\n",
              "    <tr>\n",
              "      <th>3</th>\n",
              "      <td>Ahmad Dhani Tak Puas Debat Pilkada, Masalah Ja...</td>\n",
              "      <td>Non_HS</td>\n",
              "      <td>ahmad dhani tak puas debat pilkada masalah jal...</td>\n",
              "    </tr>\n",
              "    <tr>\n",
              "      <th>4</th>\n",
              "      <td>RT @lisdaulay28: Waspada KTP palsu.....kawal P...</td>\n",
              "      <td>Non_HS</td>\n",
              "      <td>waspada ktp palsu kawal pilkada</td>\n",
              "    </tr>\n",
              "    <tr>\n",
              "      <th>...</th>\n",
              "      <td>...</td>\n",
              "      <td>...</td>\n",
              "      <td>...</td>\n",
              "    </tr>\n",
              "    <tr>\n",
              "      <th>708</th>\n",
              "      <td>Muka Si BABi Ahok Tuh Yg Mirip SERBET Lantai.....</td>\n",
              "      <td>HS</td>\n",
              "      <td>muka si babi ahok tuh yg mirip serbet lantai</td>\n",
              "    </tr>\n",
              "    <tr>\n",
              "      <th>709</th>\n",
              "      <td>Betul bang hancurkan merka bang, musnahkan chi...</td>\n",
              "      <td>HS</td>\n",
              "      <td>betul bang hancur merka bang musnah china babi...</td>\n",
              "    </tr>\n",
              "    <tr>\n",
              "      <th>710</th>\n",
              "      <td>Sapa Yg bilang Ahok anti korupsi!?, klo grombo...</td>\n",
              "      <td>HS</td>\n",
              "      <td>sapa yg bilang ahok anti korupsi klo grombolan...</td>\n",
              "    </tr>\n",
              "    <tr>\n",
              "      <th>711</th>\n",
              "      <td>Gw juga ngimpi SENTILIN BIJI BABI AHOK, pcetar...</td>\n",
              "      <td>HS</td>\n",
              "      <td>gw juga ngimpi sentilin biji babi ahok pcetar ...</td>\n",
              "    </tr>\n",
              "    <tr>\n",
              "      <th>712</th>\n",
              "      <td>Mudah2an gw ketemu sama SI BABI IWAN BOPENG DI...</td>\n",
              "      <td>HS</td>\n",
              "      <td>mudah an gw ketemu sama si babi iwan bopeng di...</td>\n",
              "    </tr>\n",
              "  </tbody>\n",
              "</table>\n",
              "<p>712 rows × 3 columns</p>\n",
              "</div>"
            ],
            "text/plain": [
              "                                                 Tweet  ...                                         clean_text\n",
              "0    RT @spardaxyz: Fadli Zon Minta Mendagri Segera...  ...  fadli zon minta mendagri segera nonaktif ahok ...\n",
              "1    RT @baguscondromowo: Mereka terus melukai aksi...  ...  mereka terus luka aksi dalam rangka penjara ah...\n",
              "2    Sylvi: bagaimana gurbernur melakukan kekerasan...  ...  sylvi bagaimana gurbernur laku keras perempuan...\n",
              "3    Ahmad Dhani Tak Puas Debat Pilkada, Masalah Ja...  ...  ahmad dhani tak puas debat pilkada masalah jal...\n",
              "4    RT @lisdaulay28: Waspada KTP palsu.....kawal P...  ...                    waspada ktp palsu kawal pilkada\n",
              "..                                                 ...  ...                                                ...\n",
              "708  Muka Si BABi Ahok Tuh Yg Mirip SERBET Lantai.....  ...       muka si babi ahok tuh yg mirip serbet lantai\n",
              "709  Betul bang hancurkan merka bang, musnahkan chi...  ...  betul bang hancur merka bang musnah china babi...\n",
              "710  Sapa Yg bilang Ahok anti korupsi!?, klo grombo...  ...  sapa yg bilang ahok anti korupsi klo grombolan...\n",
              "711  Gw juga ngimpi SENTILIN BIJI BABI AHOK, pcetar...  ...  gw juga ngimpi sentilin biji babi ahok pcetar ...\n",
              "712  Mudah2an gw ketemu sama SI BABI IWAN BOPENG DI...  ...  mudah an gw ketemu sama si babi iwan bopeng di...\n",
              "\n",
              "[712 rows x 3 columns]"
            ]
          },
          "metadata": {
            "tags": []
          },
          "execution_count": 125
        }
      ]
    },
    {
      "cell_type": "code",
      "metadata": {
        "colab": {
          "base_uri": "https://localhost:8080/"
        },
        "id": "mrsBrB-eBA2K",
        "outputId": "13534de8-4859-45b7-840e-715589258859"
      },
      "source": [
        "df.shape"
      ],
      "execution_count": 126,
      "outputs": [
        {
          "output_type": "execute_result",
          "data": {
            "text/plain": [
              "(712, 3)"
            ]
          },
          "metadata": {
            "tags": []
          },
          "execution_count": 126
        }
      ]
    },
    {
      "cell_type": "code",
      "metadata": {
        "colab": {
          "base_uri": "https://localhost:8080/"
        },
        "id": "P7U3ubMEBJVA",
        "outputId": "0edc81d7-6f2b-49f4-ea49-522f61c06f28"
      },
      "source": [
        "df['Label'].value_counts()"
      ],
      "execution_count": 127,
      "outputs": [
        {
          "output_type": "execute_result",
          "data": {
            "text/plain": [
              "Non_HS    453\n",
              "HS        259\n",
              "Name: Label, dtype: int64"
            ]
          },
          "metadata": {
            "tags": []
          },
          "execution_count": 127
        }
      ]
    },
    {
      "cell_type": "markdown",
      "metadata": {
        "id": "WNnhuxuZ-3aG"
      },
      "source": [
        "# **Membuat Model**\n",
        "\n",
        "**Vektorisasi**"
      ]
    },
    {
      "cell_type": "code",
      "metadata": {
        "colab": {
          "base_uri": "https://localhost:8080/"
        },
        "id": "kOeFc-Mu_GFn",
        "outputId": "d5e5d214-ea88-4e64-996d-83e3deac1ff7"
      },
      "source": [
        "X = df['clean_text']\n",
        "count_vect = CountVectorizer()\n",
        "X_train_counts = count_vect.fit_transform(X)\n",
        "X_train_counts.shape"
      ],
      "execution_count": 128,
      "outputs": [
        {
          "output_type": "execute_result",
          "data": {
            "text/plain": [
              "(712, 2299)"
            ]
          },
          "metadata": {
            "tags": []
          },
          "execution_count": 128
        }
      ]
    },
    {
      "cell_type": "code",
      "metadata": {
        "colab": {
          "base_uri": "https://localhost:8080/"
        },
        "id": "4DyF_Dxr_67_",
        "outputId": "020de3b5-a52a-4461-c801-170743e67b30"
      },
      "source": [
        "tfidf_transformer = TfidfTransformer()\n",
        "X_train_tfidf = tfidf_transformer.fit_transform(X_train_counts)\n",
        "X_train_tfidf.shape"
      ],
      "execution_count": 129,
      "outputs": [
        {
          "output_type": "execute_result",
          "data": {
            "text/plain": [
              "(712, 2299)"
            ]
          },
          "metadata": {
            "tags": []
          },
          "execution_count": 129
        }
      ]
    },
    {
      "cell_type": "code",
      "metadata": {
        "id": "ExIxVeOWBgbx"
      },
      "source": [
        "label = LabelEncoder()\n",
        "y = label.fit_transform(df['Label'])\n",
        "\n",
        "\n",
        "X_train, X_test, y_train, y_test = train_test_split(X_train_tfidf, y, test_size=0.2, random_state=0)"
      ],
      "execution_count": 130,
      "outputs": []
    },
    {
      "cell_type": "markdown",
      "metadata": {
        "id": "3YJMbGdjD0Ou"
      },
      "source": [
        "**Random Forest Classifier**"
      ]
    },
    {
      "cell_type": "code",
      "metadata": {
        "colab": {
          "base_uri": "https://localhost:8080/"
        },
        "id": "po6H0icuEB--",
        "outputId": "d46af296-0f22-4ed1-b2bb-bfe421f477db"
      },
      "source": [
        "rf = RandomForestClassifier(max_depth=10, random_state=1)\n",
        "rf.fit(X_train, y_train)\n",
        "\n",
        "y_pred = rf.predict(X_test)\n",
        "\n",
        "print(classification_report(y_test, y_pred))\n",
        "print(\"Accuracy : \",accuracy_score(y_test,y_pred))\n",
        "print(\"\\n Confusion Matrix : \\n\", confusion_matrix(y_test, y_preds))"
      ],
      "execution_count": 131,
      "outputs": [
        {
          "output_type": "stream",
          "text": [
            "              precision    recall  f1-score   support\n",
            "\n",
            "           0       1.00      0.53      0.69        57\n",
            "           1       0.76      1.00      0.86        86\n",
            "\n",
            "    accuracy                           0.81       143\n",
            "   macro avg       0.88      0.76      0.78       143\n",
            "weighted avg       0.86      0.81      0.79       143\n",
            "\n",
            "Accuracy :  0.8111888111888111\n",
            "\n",
            " Confusion Matrix : \n",
            " [[30 27]\n",
            " [ 0 86]]\n"
          ],
          "name": "stdout"
        }
      ]
    },
    {
      "cell_type": "markdown",
      "metadata": {
        "id": "JAM1l7hCGII8"
      },
      "source": [
        "**K-Nearest Neighbours Classsifier**"
      ]
    },
    {
      "cell_type": "code",
      "metadata": {
        "colab": {
          "base_uri": "https://localhost:8080/"
        },
        "id": "Y1wFj-JmGQ4p",
        "outputId": "7cf83f5d-058f-4b35-cebf-2eed71736cd7"
      },
      "source": [
        "knn = KNeighborsClassifier(n_neighbors=5)\n",
        "knn.fit(X_train,y_train)\n",
        "\n",
        "y_pred = knn.predict(X_test)\n",
        "\n",
        "print(classification_report(y_test, y_pred))\n",
        "print(\"Accuracy : \",accuracy_score(y_test,y_pred))\n",
        "print(\"\\n Confusion Matrix : \\n\", confusion_matrix(y_test, y_preds))"
      ],
      "execution_count": 132,
      "outputs": [
        {
          "output_type": "stream",
          "text": [
            "              precision    recall  f1-score   support\n",
            "\n",
            "           0       0.78      0.75      0.77        57\n",
            "           1       0.84      0.86      0.85        86\n",
            "\n",
            "    accuracy                           0.82       143\n",
            "   macro avg       0.81      0.81      0.81       143\n",
            "weighted avg       0.82      0.82      0.82       143\n",
            "\n",
            "Accuracy :  0.8181818181818182\n",
            "\n",
            " Confusion Matrix : \n",
            " [[30 27]\n",
            " [ 0 86]]\n"
          ],
          "name": "stdout"
        }
      ]
    }
  ]
}